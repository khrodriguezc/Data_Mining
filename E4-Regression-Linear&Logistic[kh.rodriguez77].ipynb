{
 "cells": [
  {
   "cell_type": "markdown",
   "metadata": {},
   "source": [
    "# Exercise 04\n",
    "\n",
    "\n",
    "# Part 1 - Linear Regression\n",
    "\n",
    "Estimate a regression using the Income data\n",
    "\n",
    "\n",
    "## Forecast of income\n",
    "\n",
    "We'll be working with a dataset from US Census indome ([data dictionary](https://archive.ics.uci.edu/ml/datasets/Adult)).\n",
    "\n",
    "Many businesses would like to personalize their offer based on customer’s income. High-income customers could be, for instance, exposed to premium products. As a customer’s income is not always explicitly known, predictive model could estimate income of a person based on other information.\n",
    "\n",
    "Our goal is to create a predictive model that will be able to output an estimation of a person income."
   ]
  },
  {
   "cell_type": "code",
   "execution_count": 13,
   "metadata": {},
   "outputs": [
    {
     "data": {
      "text/html": [
       "<div>\n",
       "<style scoped>\n",
       "    .dataframe tbody tr th:only-of-type {\n",
       "        vertical-align: middle;\n",
       "    }\n",
       "\n",
       "    .dataframe tbody tr th {\n",
       "        vertical-align: top;\n",
       "    }\n",
       "\n",
       "    .dataframe thead th {\n",
       "        text-align: right;\n",
       "    }\n",
       "</style>\n",
       "<table border=\"1\" class=\"dataframe\">\n",
       "  <thead>\n",
       "    <tr style=\"text-align: right;\">\n",
       "      <th></th>\n",
       "      <th>Age</th>\n",
       "      <th>Workclass</th>\n",
       "      <th>fnlwgt</th>\n",
       "      <th>Education</th>\n",
       "      <th>Education-Num</th>\n",
       "      <th>Martial Status</th>\n",
       "      <th>Occupation</th>\n",
       "      <th>Relationship</th>\n",
       "      <th>Race</th>\n",
       "      <th>Sex</th>\n",
       "      <th>Capital Gain</th>\n",
       "      <th>Capital Loss</th>\n",
       "      <th>Hours per week</th>\n",
       "      <th>Country</th>\n",
       "      <th>Income</th>\n",
       "    </tr>\n",
       "  </thead>\n",
       "  <tbody>\n",
       "    <tr>\n",
       "      <th>0</th>\n",
       "      <td>39</td>\n",
       "      <td>State-gov</td>\n",
       "      <td>77516</td>\n",
       "      <td>Bachelors</td>\n",
       "      <td>13</td>\n",
       "      <td>Never-married</td>\n",
       "      <td>Adm-clerical</td>\n",
       "      <td>Not-in-family</td>\n",
       "      <td>White</td>\n",
       "      <td>Male</td>\n",
       "      <td>2174</td>\n",
       "      <td>0</td>\n",
       "      <td>40</td>\n",
       "      <td>United-States</td>\n",
       "      <td>51806.0</td>\n",
       "    </tr>\n",
       "    <tr>\n",
       "      <th>1</th>\n",
       "      <td>50</td>\n",
       "      <td>Self-emp-not-inc</td>\n",
       "      <td>83311</td>\n",
       "      <td>Bachelors</td>\n",
       "      <td>13</td>\n",
       "      <td>Married-civ-spouse</td>\n",
       "      <td>Exec-managerial</td>\n",
       "      <td>Husband</td>\n",
       "      <td>White</td>\n",
       "      <td>Male</td>\n",
       "      <td>0</td>\n",
       "      <td>0</td>\n",
       "      <td>13</td>\n",
       "      <td>United-States</td>\n",
       "      <td>68719.0</td>\n",
       "    </tr>\n",
       "    <tr>\n",
       "      <th>2</th>\n",
       "      <td>38</td>\n",
       "      <td>Private</td>\n",
       "      <td>215646</td>\n",
       "      <td>HS-grad</td>\n",
       "      <td>9</td>\n",
       "      <td>Divorced</td>\n",
       "      <td>Handlers-cleaners</td>\n",
       "      <td>Not-in-family</td>\n",
       "      <td>White</td>\n",
       "      <td>Male</td>\n",
       "      <td>0</td>\n",
       "      <td>0</td>\n",
       "      <td>40</td>\n",
       "      <td>United-States</td>\n",
       "      <td>51255.0</td>\n",
       "    </tr>\n",
       "    <tr>\n",
       "      <th>3</th>\n",
       "      <td>53</td>\n",
       "      <td>Private</td>\n",
       "      <td>234721</td>\n",
       "      <td>11th</td>\n",
       "      <td>7</td>\n",
       "      <td>Married-civ-spouse</td>\n",
       "      <td>Handlers-cleaners</td>\n",
       "      <td>Husband</td>\n",
       "      <td>Black</td>\n",
       "      <td>Male</td>\n",
       "      <td>0</td>\n",
       "      <td>0</td>\n",
       "      <td>40</td>\n",
       "      <td>United-States</td>\n",
       "      <td>47398.0</td>\n",
       "    </tr>\n",
       "    <tr>\n",
       "      <th>4</th>\n",
       "      <td>28</td>\n",
       "      <td>Private</td>\n",
       "      <td>338409</td>\n",
       "      <td>Bachelors</td>\n",
       "      <td>13</td>\n",
       "      <td>Married-civ-spouse</td>\n",
       "      <td>Prof-specialty</td>\n",
       "      <td>Wife</td>\n",
       "      <td>Black</td>\n",
       "      <td>Female</td>\n",
       "      <td>0</td>\n",
       "      <td>0</td>\n",
       "      <td>40</td>\n",
       "      <td>Cuba</td>\n",
       "      <td>30493.0</td>\n",
       "    </tr>\n",
       "  </tbody>\n",
       "</table>\n",
       "</div>"
      ],
      "text/plain": [
       "   Age         Workclass  fnlwgt  Education  Education-Num  \\\n",
       "0   39         State-gov   77516  Bachelors             13   \n",
       "1   50  Self-emp-not-inc   83311  Bachelors             13   \n",
       "2   38           Private  215646    HS-grad              9   \n",
       "3   53           Private  234721       11th              7   \n",
       "4   28           Private  338409  Bachelors             13   \n",
       "\n",
       "       Martial Status         Occupation   Relationship   Race     Sex  \\\n",
       "0       Never-married       Adm-clerical  Not-in-family  White    Male   \n",
       "1  Married-civ-spouse    Exec-managerial        Husband  White    Male   \n",
       "2            Divorced  Handlers-cleaners  Not-in-family  White    Male   \n",
       "3  Married-civ-spouse  Handlers-cleaners        Husband  Black    Male   \n",
       "4  Married-civ-spouse     Prof-specialty           Wife  Black  Female   \n",
       "\n",
       "   Capital Gain  Capital Loss  Hours per week        Country   Income  \n",
       "0          2174             0              40  United-States  51806.0  \n",
       "1             0             0              13  United-States  68719.0  \n",
       "2             0             0              40  United-States  51255.0  \n",
       "3             0             0              40  United-States  47398.0  \n",
       "4             0             0              40           Cuba  30493.0  "
      ]
     },
     "execution_count": 13,
     "metadata": {},
     "output_type": "execute_result"
    }
   ],
   "source": [
    "import pandas as pd\n",
    "import numpy as np\n",
    "\n",
    "%matplotlib inline\n",
    "import matplotlib.pyplot as plt\n",
    "\n",
    "# read the data and set the datetime as the index\n",
    "income = pd.read_csv('https://github.com/albahnsen/PracticalMachineLearningClass/raw/master/datasets/income.csv.zip', index_col=0)\n",
    "\n",
    "income.head()"
   ]
  },
  {
   "cell_type": "code",
   "execution_count": 2,
   "metadata": {},
   "outputs": [
    {
     "data": {
      "text/plain": [
       "(32561, 15)"
      ]
     },
     "execution_count": 2,
     "metadata": {},
     "output_type": "execute_result"
    }
   ],
   "source": [
    "income.shape"
   ]
  },
  {
   "cell_type": "markdown",
   "metadata": {},
   "source": [
    "# Exercise 4.1 \n",
    "\n",
    "What is the relation between the age and Income?\n",
    "\n",
    "For a one percent increase in the Age how much the income increases?\n",
    "\n",
    "Using sklearn estimate a linear regression and predict the income when the Age is 30 and 40 years"
   ]
  },
  {
   "cell_type": "code",
   "execution_count": 3,
   "metadata": {},
   "outputs": [
    {
     "data": {
      "text/plain": [
       "<matplotlib.axes._subplots.AxesSubplot at 0x83fe7e0668>"
      ]
     },
     "execution_count": 3,
     "metadata": {},
     "output_type": "execute_result"
    },
    {
     "data": {
      "image/png": "[encoded data removed]",
      "text/plain": [
       "<Figure size 432x288 with 1 Axes>"
      ]
     },
     "metadata": {},
     "output_type": "display_data"
    }
   ],
   "source": [
    "income.plot(x='Age', y='Income', kind='scatter')"
   ]
  },
  {
   "cell_type": "markdown",
   "metadata": {},
   "source": [
    "## Relación entre Ingreso y Edad"
   ]
  },
  {
   "cell_type": "code",
   "execution_count": 4,
   "metadata": {},
   "outputs": [],
   "source": [
    "from scipy.stats.stats import pearsonr"
   ]
  },
  {
   "cell_type": "code",
   "execution_count": 6,
   "metadata": {
    "scrolled": true
   },
   "outputs": [
    {
     "data": {
      "text/plain": [
       "(0.2904082980024351, 0.0)"
      ]
     },
     "execution_count": 6,
     "metadata": {},
     "output_type": "execute_result"
    }
   ],
   "source": [
    "pearsonr(income['Age'], income['Income'])"
   ]
  },
  {
   "cell_type": "markdown",
   "metadata": {},
   "source": [
    "Como se ve evidenciado por el Coeficiente de correlación de 0,29 y el gráfico de dispersión que no muestra ningún tipo de tendencia, las variables edad e ingreso no poseen un alto grado de relación."
   ]
  },
  {
   "cell_type": "markdown",
   "metadata": {},
   "source": [
    "## Regresión modelo OLS"
   ]
  },
  {
   "cell_type": "code",
   "execution_count": 25,
   "metadata": {},
   "outputs": [],
   "source": [
    "import pandas as pd\n",
    "import numpy as np"
   ]
  },
  {
   "cell_type": "code",
   "execution_count": 48,
   "metadata": {},
   "outputs": [],
   "source": [
    "y = income['Income']\n",
    "x = income['Age']\n",
    "y_mean, y_std = y.mean(), y.std()\n",
    "x_mean, x_std = x.mean(), x.std()\n",
    "\n",
    "y = (y - y_mean)/ y_std\n",
    "x = (x - x_mean)/ x_std\n",
    "n_samples = x.shape[0]\n",
    "X = np.c_[np.ones(n_samples), x]"
   ]
  },
  {
   "cell_type": "code",
   "execution_count": 49,
   "metadata": {},
   "outputs": [
    {
     "data": {
      "text/plain": [
       "array([8.06661382e-17, 2.90408298e-01])"
      ]
     },
     "execution_count": 49,
     "metadata": {},
     "output_type": "execute_result"
    }
   ],
   "source": [
    "from sklearn.linear_model import LinearRegression\n",
    "linreg = LinearRegression(fit_intercept=False)\n",
    "linreg.fit(X, y)\n",
    "linreg.coef_"
   ]
  },
  {
   "cell_type": "markdown",
   "metadata": {},
   "source": [
    "## Predicción modelos OLS"
   ]
  },
  {
   "cell_type": "code",
   "execution_count": 55,
   "metadata": {},
   "outputs": [
    {
     "data": {
      "text/plain": [
       "array([48803.11784304])"
      ]
     },
     "execution_count": 55,
     "metadata": {},
     "output_type": "execute_result"
    }
   ],
   "source": [
    "# Definición función predicción\n",
    "def lr_h(beta,x):\n",
    "    return np.dot(beta, x.T)\n",
    "\n",
    "# Predicción edad=30\n",
    "x1 = np.array([30])\n",
    "# Estandarizar x1\n",
    "x1_scaled = (x1 - x_mean)/ x_std\n",
    "x1_ = np.c_[1, x1_scaled]\n",
    "y_pred1 = lr_h(linreg.coef_,x1_)\n",
    "y_pred1 = y_pred1 * y_std + y_mean\n",
    "y_pred1"
   ]
  },
  {
   "cell_type": "markdown",
   "metadata": {},
   "source": [
    "Se espera que el ingreso estimado de una persona de 30 años sea 48.803 según la predicción del modelo con la metodología OLS."
   ]
  },
  {
   "cell_type": "code",
   "execution_count": 56,
   "metadata": {},
   "outputs": [
    {
     "data": {
      "text/plain": [
       "array([54224.79441376])"
      ]
     },
     "execution_count": 56,
     "metadata": {},
     "output_type": "execute_result"
    }
   ],
   "source": [
    "# Predicción edad=40\n",
    "x2 = np.array([40])\n",
    "# Estandarizar x2\n",
    "x2_scaled = (x2 - x_mean)/ x_std\n",
    "x2_ = np.c_[1, x2_scaled]\n",
    "y_pred2 = lr_h(linreg.coef_,x2_)\n",
    "y_pred2 = y_pred2 * y_std + y_mean\n",
    "y_pred2"
   ]
  },
  {
   "cell_type": "markdown",
   "metadata": {},
   "source": [
    "Se espera que el ingreso estimado de una persona de 40 años sea 54.224 según la predicción del modelo con la metodología OLS."
   ]
  },
  {
   "cell_type": "markdown",
   "metadata": {},
   "source": [
    "## Regresión modelo SGD"
   ]
  },
  {
   "cell_type": "code",
   "execution_count": 69,
   "metadata": {},
   "outputs": [
    {
     "data": {
      "text/plain": [
       "array([-0.00844612,  0.28269976])"
      ]
     },
     "execution_count": 69,
     "metadata": {},
     "output_type": "execute_result"
    }
   ],
   "source": [
    "from sklearn.linear_model import SGDRegressor\n",
    "linreg2 = SGDRegressor(fit_intercept=False, max_iter=500,tol = 0.0000001)\n",
    "y = income['Income']\n",
    "x = income['Age']\n",
    "y_mean, y_std = y.mean(), y.std()\n",
    "X_mean, X_std = x.mean(), x.std()\n",
    "\n",
    "y = (y - y_mean)/ y_std\n",
    "x = (x - x_mean)/ x_std\n",
    "n_samples = x.shape[0]\n",
    "x_ = np.c_[np.ones(n_samples), x]\n",
    "\n",
    "linreg2.fit(x_, y)\n",
    "linreg2.coef_"
   ]
  },
  {
   "cell_type": "markdown",
   "metadata": {},
   "source": [
    "## Predicción modelo SGD"
   ]
  },
  {
   "cell_type": "code",
   "execution_count": 61,
   "metadata": {},
   "outputs": [
    {
     "data": {
      "text/plain": [
       "array([48644.48606906])"
      ]
     },
     "execution_count": 61,
     "metadata": {},
     "output_type": "execute_result"
    }
   ],
   "source": [
    "# Predicción edad=30\n",
    "x1 = np.array([30])\n",
    "# Estandarizar x1\n",
    "x1_scaled = (x1 - x_mean)/ x_std\n",
    "x1_ = np.c_[1, x1_scaled]\n",
    "y_pred1 = lr_h(linreg2.coef_,x1_)\n",
    "y_pred1 = y_pred1 * y_std + y_mean\n",
    "y_pred1"
   ]
  },
  {
   "cell_type": "markdown",
   "metadata": {},
   "source": [
    "Se espera que el ingreso estimado de una persona de 30 años sea 48.644 según la predicción del modelo con la metodología SGD."
   ]
  },
  {
   "cell_type": "code",
   "execution_count": 67,
   "metadata": {},
   "outputs": [
    {
     "data": {
      "text/plain": [
       "array([54517.25692202])"
      ]
     },
     "execution_count": 67,
     "metadata": {},
     "output_type": "execute_result"
    }
   ],
   "source": [
    "# Predicción edad=40\n",
    "x2 = np.array([40])\n",
    "# Estandarizar x2\n",
    "x2_scaled = (x2 - x_mean)/ x_std\n",
    "x2_ = np.c_[1, x2_scaled]\n",
    "y_pred2 = lr_h(linreg2.coef_,x2_)\n",
    "y_pred2 = y_pred2 * y_std + y_mean\n",
    "y_pred2"
   ]
  },
  {
   "cell_type": "markdown",
   "metadata": {},
   "source": [
    "Se espera que el ingreso estimado de una persona de 40 años sea 54.517 según la predicción del modelo con la metodología SGD."
   ]
  },
  {
   "cell_type": "markdown",
   "metadata": {},
   "source": [
    "# Exercise 4.2\n",
    "Evaluate the model using the MSE"
   ]
  },
  {
   "cell_type": "markdown",
   "metadata": {
    "collapsed": true
   },
   "source": [
    "## MSE para el modelo OLS"
   ]
  },
  {
   "cell_type": "code",
   "execution_count": 73,
   "metadata": {},
   "outputs": [
    {
     "data": {
      "text/plain": [
       "LinearRegression(copy_X=True, fit_intercept=True, n_jobs=1, normalize=False)"
      ]
     },
     "execution_count": 73,
     "metadata": {},
     "output_type": "execute_result"
    }
   ],
   "source": [
    "y = income['Income']\n",
    "x = income['Age']\n",
    "x_ = np.c_[np.ones(n_samples), x]\n",
    "clf1 = LinearRegression()\n",
    "clf1.fit(x_, y)"
   ]
  },
  {
   "cell_type": "code",
   "execution_count": 74,
   "metadata": {},
   "outputs": [],
   "source": [
    "y_pred = clf1.predict(x_)"
   ]
  },
  {
   "cell_type": "code",
   "execution_count": 75,
   "metadata": {},
   "outputs": [
    {
     "name": "stdout",
     "output_type": "stream",
     "text": [
      "MSE metodología OLS: 593783043.8402299\n"
     ]
    }
   ],
   "source": [
    "from sklearn import metrics\n",
    "import numpy as np\n",
    "\n",
    "print('MSE metodología OLS:', metrics.mean_squared_error(y, y_pred))\n"
   ]
  },
  {
   "cell_type": "markdown",
   "metadata": {},
   "source": [
    "## MSE para el modelo SGD"
   ]
  },
  {
   "cell_type": "code",
   "execution_count": 76,
   "metadata": {
    "scrolled": true
   },
   "outputs": [
    {
     "data": {
      "text/plain": [
       "SGDRegressor(alpha=0.0001, average=False, epsilon=0.1, eta0=0.01,\n",
       "       fit_intercept=True, l1_ratio=0.15, learning_rate='invscaling',\n",
       "       loss='squared_loss', max_iter=10000, n_iter=None, penalty='l2',\n",
       "       power_t=0.25, random_state=None, shuffle=True, tol=None, verbose=0,\n",
       "       warm_start=False)"
      ]
     },
     "execution_count": 76,
     "metadata": {},
     "output_type": "execute_result"
    }
   ],
   "source": [
    "y = income['Income']\n",
    "x = income['Age']\n",
    "x_ = np.c_[np.ones(n_samples), x]\n",
    "clf2 = SGDRegressor( max_iter=10000,tol=None)\n",
    "clf2.fit(x_, y)"
   ]
  },
  {
   "cell_type": "code",
   "execution_count": 77,
   "metadata": {},
   "outputs": [
    {
     "name": "stdout",
     "output_type": "stream",
     "text": [
      "MSE metodología SGD: 615751644.0479655\n"
     ]
    }
   ],
   "source": [
    "y_pred2 = clf2.predict(x_)\n",
    "print('MSE metodología SGD:', metrics.mean_squared_error(y, y_pred2))"
   ]
  },
  {
   "cell_type": "markdown",
   "metadata": {},
   "source": [
    "Para la estructura del modelo, la metodología OLS proporciona una mejor precisión en las predicciones evaluada bajo la metodología MSE."
   ]
  },
  {
   "cell_type": "markdown",
   "metadata": {},
   "source": [
    "\n",
    "# Exercise 4.3\n",
    "\n",
    "Run a regression model using as features the Age and Age$^2$ using the OLS equations"
   ]
  },
  {
   "cell_type": "code",
   "execution_count": 6,
   "metadata": {},
   "outputs": [],
   "source": [
    "y = income['Income']\n",
    "income['Age2'] = income['Age'] ** 2\n",
    "x = income[['Age','Age2']]\n",
    "# Estandarización de las variables del modelo\n",
    "y_mean, y_std = y.mean(), y.std()\n",
    "x_mean, x_std = x.mean(), x.std()\n",
    "\n",
    "y = (y - y_mean)/ y_std\n",
    "x = (x - x_mean)/ x_std\n",
    "n_samples = x.shape[0]\n",
    "X = np.c_[np.ones(n_samples), x]"
   ]
  },
  {
   "cell_type": "code",
   "execution_count": 8,
   "metadata": {},
   "outputs": [
    {
     "data": {
      "text/plain": [
       "array([ 8.06661382e-17,  1.67751068e+00, -1.41415206e+00])"
      ]
     },
     "execution_count": 8,
     "metadata": {},
     "output_type": "execute_result"
    }
   ],
   "source": [
    "from sklearn.linear_model import LinearRegression\n",
    "linreg = LinearRegression(fit_intercept=False)\n",
    "linreg.fit(X, y)\n",
    "linreg.coef_"
   ]
  },
  {
   "cell_type": "markdown",
   "metadata": {},
   "source": [
    "# Exercise 4.4\n",
    "\n",
    "\n",
    "Estimate a regression using more features.\n",
    "\n",
    "How is the performance compared to using only the Age?"
   ]
  },
  {
   "cell_type": "markdown",
   "metadata": {},
   "source": [
    "## Estimación metodología OLS"
   ]
  },
  {
   "cell_type": "code",
   "execution_count": 18,
   "metadata": {},
   "outputs": [],
   "source": [
    "y = income['Income']\n",
    "x = income[['Age','Education-Num','Capital Gain','Hours per week']]\n",
    "# Estandarización\n",
    "y_mean, y_std = y.mean(), y.std()\n",
    "x_mean, x_std = x.mean(), x.std()\n",
    "y = (y - y_mean)/ y_std\n",
    "x = (x - x_mean)/ x_std"
   ]
  },
  {
   "cell_type": "code",
   "execution_count": 19,
   "metadata": {},
   "outputs": [],
   "source": [
    "n_samples = x.shape[0]\n",
    "income['Sex']=income.Sex.map({'Female':0,'Male':1}) #Definición Dummy Genero\n",
    "income['Sex_Ed']=income['Sex']*income['Education-Num']#Definición Interacción\n",
    "X = np.c_[np.ones(n_samples), x,income['Sex'],income['Sex_Ed']]"
   ]
  },
  {
   "cell_type": "code",
   "execution_count": 21,
   "metadata": {},
   "outputs": [
    {
     "data": {
      "text/plain": [
       "array([-0.53906608,  0.22353744,  0.30178727,  0.12026301,  0.11662529,\n",
       "        0.34463816,  0.04561994])"
      ]
     },
     "execution_count": 21,
     "metadata": {},
     "output_type": "execute_result"
    }
   ],
   "source": [
    "from sklearn.linear_model import LinearRegression\n",
    "linreg = LinearRegression(fit_intercept=False)\n",
    "linreg.fit(X, y)\n",
    "linreg.coef_"
   ]
  },
  {
   "cell_type": "markdown",
   "metadata": {},
   "source": [
    "## Estimación Metodología SGD"
   ]
  },
  {
   "cell_type": "code",
   "execution_count": 22,
   "metadata": {},
   "outputs": [
    {
     "data": {
      "text/plain": [
       "array([-0.53007559,  0.22998012,  0.31015132,  0.10730813,  0.11113328,\n",
       "        0.26416618,  0.04944548])"
      ]
     },
     "execution_count": 22,
     "metadata": {},
     "output_type": "execute_result"
    }
   ],
   "source": [
    "from sklearn.linear_model import SGDRegressor\n",
    "linreg2 = SGDRegressor(fit_intercept=False, max_iter=500,tol = 0.0000001)\n",
    "linreg2.fit(X, y)\n",
    "linreg2.coef_"
   ]
  },
  {
   "cell_type": "markdown",
   "metadata": {},
   "source": [
    "## Diferencia entre las estimaciones"
   ]
  },
  {
   "cell_type": "code",
   "execution_count": 23,
   "metadata": {
    "scrolled": true
   },
   "outputs": [
    {
     "data": {
      "text/plain": [
       "array([-0.00899048, -0.00644267, -0.00836405,  0.01295488,  0.00549201,\n",
       "        0.08047198, -0.00382554])"
      ]
     },
     "execution_count": 23,
     "metadata": {},
     "output_type": "execute_result"
    }
   ],
   "source": [
    "linreg.coef_ -linreg2.coef_"
   ]
  },
  {
   "cell_type": "markdown",
   "metadata": {},
   "source": [
    "## Precisión estimación metodología OLS (MSE)"
   ]
  },
  {
   "cell_type": "code",
   "execution_count": 31,
   "metadata": {},
   "outputs": [],
   "source": [
    "income = pd.read_csv('https://github.com/albahnsen/PracticalMachineLearningClass/raw/master/datasets/income.csv.zip', index_col=0)\n",
    "y = income['Income']\n",
    "income['Sex']=income.Sex.map({'Female':0,'Male':1}) #Definición Dummy Genero\n",
    "income['Sex_Ed']=income['Sex']*income['Education-Num']#Definición Interacción con años de Educación.\n",
    "x = income[['Age','Education-Num','Capital Gain','Hours per week','Sex','Sex_Ed']]"
   ]
  },
  {
   "cell_type": "code",
   "execution_count": 32,
   "metadata": {},
   "outputs": [
    {
     "data": {
      "text/plain": [
       "LinearRegression(copy_X=True, fit_intercept=True, n_jobs=1, normalize=False)"
      ]
     },
     "execution_count": 32,
     "metadata": {},
     "output_type": "execute_result"
    }
   ],
   "source": [
    "x_ = np.c_[np.ones(n_samples), x]\n",
    "clf1 = LinearRegression()\n",
    "clf1.fit(x_, y)"
   ]
  },
  {
   "cell_type": "code",
   "execution_count": 33,
   "metadata": {
    "scrolled": true
   },
   "outputs": [
    {
     "name": "stdout",
     "output_type": "stream",
     "text": [
      "MAE metodología OLS: 14233.221088427295\n",
      "MSE metodología OLS: 351551140.6563434\n",
      "RMSE metodología OLS: 18749.69708172224\n"
     ]
    }
   ],
   "source": [
    "y_pred = clf1.predict(x_)\n",
    "from sklearn import metrics\n",
    "import numpy as np\n",
    "print('MAE metodología OLS:', metrics.mean_absolute_error(y, y_pred))\n",
    "print('MSE metodología OLS:', metrics.mean_squared_error(y, y_pred))\n",
    "print('RMSE metodología OLS:', np.sqrt(metrics.mean_squared_error(y, y_pred)))"
   ]
  },
  {
   "cell_type": "markdown",
   "metadata": {},
   "source": [
    "## Precisión estimación metodología SGD (MSE)"
   ]
  },
  {
   "cell_type": "code",
   "execution_count": 34,
   "metadata": {},
   "outputs": [
    {
     "name": "stdout",
     "output_type": "stream",
     "text": [
      "MAE metodología SGD: 3729869430862505.0\n",
      "MSE metodología SGD: 6.672619523616022e+32\n",
      "RMSE metodología SGD: 2.583141406043429e+16\n"
     ]
    }
   ],
   "source": [
    "income = pd.read_csv('https://github.com/albahnsen/PracticalMachineLearningClass/raw/master/datasets/income.csv.zip', index_col=0)\n",
    "y = income['Income']\n",
    "income['Sex']=income.Sex.map({'Female':0,'Male':1}) #Definición Dummy Genero\n",
    "income['Sex_Ed']=income['Sex']*income['Education-Num']#Definición Interacción con años de Educación.\n",
    "x = income[['Age','Education-Num','Capital Gain','Hours per week','Sex','Sex_Ed']]\n",
    "x_ = np.c_[np.ones(n_samples), x]\n",
    "clf2 = SGDRegressor( max_iter=10000,tol=None)\n",
    "clf2.fit(x_, y)\n",
    "y_pred2 = clf2.predict(x_)\n",
    "print('MAE metodología SGD:', metrics.mean_absolute_error(y, y_pred2))\n",
    "print('MSE metodología SGD:', metrics.mean_squared_error(y, y_pred2))\n",
    "print('RMSE metodología SGD:', np.sqrt(metrics.mean_squared_error(y, y_pred2)))"
   ]
  },
  {
   "cell_type": "markdown",
   "metadata": {},
   "source": [
    "# Part 2: Logistic Regression\n",
    "\n",
    "### Customer Churn: \n",
    "losing/attrition of the customers from the company. Especially, the industries that the user acquisition is costly, it is crucially important for one company to reduce and ideally make the customer churn to 0 to sustain their recurring revenue. If you consider customer retention is always cheaper than customer acquisition and generally depends on the data of the user(usage of the service or product), it poses a great/exciting/hard problem for machine learning.\n",
    "\n",
    "### Data\n",
    "Dataset is from a telecom service provider where they have the service usage(international plan, voicemail plan, usage in daytime, usage in evenings and nights and so on) and basic demographic information(state and area code) of the user. For labels, I have a single data point whether the customer is churned out or not.\n"
   ]
  },
  {
   "cell_type": "code",
   "execution_count": 196,
   "metadata": {},
   "outputs": [],
   "source": [
    "import pandas as pd\n",
    "import numpy as np\n",
    "# Download the dataset\n",
    "data = pd.read_csv('https://github.com/ghuiber/churn/raw/master/data/churn.csv')"
   ]
  },
  {
   "cell_type": "markdown",
   "metadata": {},
   "source": [
    "# Exercise 4.5\n",
    "\n",
    "Create Y and X\n",
    "\n",
    "What is the distribution of the churners?\n",
    "\n",
    "Split the data in train (70%) and test (30%)\n"
   ]
  },
  {
   "cell_type": "code",
   "execution_count": 176,
   "metadata": {
    "scrolled": true
   },
   "outputs": [],
   "source": [
    "# Codificando la variable Churn\n",
    "data['Churn'] = np.where(data['Churn?'] == 'False.', 0, 1)"
   ]
  },
  {
   "cell_type": "code",
   "execution_count": 188,
   "metadata": {
    "scrolled": true
   },
   "outputs": [],
   "source": [
    "from pandas.tools.plotting import scatter_matrix \n",
    "import matplotlib.pyplot as plt\n",
    "from pylab import rcParams\n",
    "import seaborn as sb"
   ]
  },
  {
   "cell_type": "code",
   "execution_count": 15,
   "metadata": {
    "scrolled": true
   },
   "outputs": [
    {
     "name": "stderr",
     "output_type": "stream",
     "text": [
      "C:\\Users\\A0685215\\AppData\\Local\\Continuum\\anaconda3\\lib\\site-packages\\matplotlib\\axes\\_axes.py:6462: UserWarning: The 'normed' kwarg is deprecated, and has been replaced by the 'density' kwarg.\n",
      "  warnings.warn(\"The 'normed' kwarg is deprecated, and has been \"\n"
     ]
    },
    {
     "data": {
      "text/plain": [
       "<matplotlib.axes._subplots.AxesSubplot at 0xb6b0080>"
      ]
     },
     "execution_count": 15,
     "metadata": {},
     "output_type": "execute_result"
    },
    {
     "data": {
      "image/png": "[encoded data removed]",
      "text/plain": [
       "<Figure size 432x288 with 1 Axes>"
      ]
     },
     "metadata": {},
     "output_type": "display_data"
    }
   ],
   "source": [
    "sb.distplot(data['Churn'])"
   ]
  },
  {
   "cell_type": "markdown",
   "metadata": {},
   "source": [
    "La distribución de la variable Churn (Codificada) es Binomial según la gráfica anterior."
   ]
  },
  {
   "cell_type": "code",
   "execution_count": 190,
   "metadata": {},
   "outputs": [],
   "source": [
    "data1=data[['Day Calls','Eve Calls','Night Calls','CustServ Calls','Churn','Intl Charge']]"
   ]
  },
  {
   "cell_type": "code",
   "execution_count": 197,
   "metadata": {},
   "outputs": [],
   "source": [
    "from sklearn.model_selection import train_test_split\n",
    "# creación de training and testing base de datos\n",
    "x_train, x_test= train_test_split(data1, test_size=0.3)"
   ]
  },
  {
   "cell_type": "code",
   "execution_count": 198,
   "metadata": {},
   "outputs": [],
   "source": [
    "x_train1=x_train.apply(lambda col: col.reset_index(drop=True))"
   ]
  },
  {
   "cell_type": "markdown",
   "metadata": {},
   "source": [
    "# Exercise 4.6\n",
    "\n",
    "Train a Logistic Regression using the training set and apply the algorithm to the testing set."
   ]
  },
  {
   "cell_type": "code",
   "execution_count": 199,
   "metadata": {},
   "outputs": [
    {
     "data": {
      "text/plain": [
       "LogisticRegression(C=1000000000.0, class_weight=None, dual=False,\n",
       "          fit_intercept=True, intercept_scaling=1, max_iter=100,\n",
       "          multi_class='ovr', n_jobs=1, penalty='l2', random_state=None,\n",
       "          solver='liblinear', tol=0.0001, verbose=0, warm_start=False)"
      ]
     },
     "execution_count": 199,
     "metadata": {},
     "output_type": "execute_result"
    }
   ],
   "source": [
    "# fit a logistic regression model and store the class predictions\n",
    "from sklearn.linear_model import LogisticRegression\n",
    "logreg = LogisticRegression(solver='liblinear',C=1e9)\n",
    "feature_cols = ['CustServ Calls']\n",
    "X = x_train1[feature_cols]\n",
    "y = x_train1.Churn\n",
    "logreg.fit(X, y)\n"
   ]
  },
  {
   "cell_type": "code",
   "execution_count": 208,
   "metadata": {},
   "outputs": [],
   "source": [
    "### prueba con X_test\n",
    "x_test1 = x_test.apply(lambda col: col.reset_index(drop=True))\n",
    "feature_cols = ['CustServ Calls']\n",
    "X1 = x_test1[feature_cols]"
   ]
  },
  {
   "cell_type": "code",
   "execution_count": 209,
   "metadata": {},
   "outputs": [],
   "source": [
    "x_test1['Churn_pred_class'] = logreg.predict(X1)"
   ]
  },
  {
   "cell_type": "code",
   "execution_count": 210,
   "metadata": {
    "scrolled": false
   },
   "outputs": [
    {
     "data": {
      "text/plain": [
       "Text(0,0.5,'Churn_pred_class')"
      ]
     },
     "execution_count": 210,
     "metadata": {},
     "output_type": "execute_result"
    },
    {
     "data": {
      "image/png": "[encoded data removed]",
      "text/plain": [
       "<Figure size 432x288 with 1 Axes>"
      ]
     },
     "metadata": {},
     "output_type": "display_data"
    }
   ],
   "source": [
    "# plot the class predictions\n",
    "plt.scatter(x_test1['CustServ Calls'], x_test1.Churn)\n",
    "plt.plot(x_test1['CustServ Calls'], x_test1.Churn_pred_class, color='red')\n",
    "plt.xlabel('CustServ Calls')\n",
    "plt.ylabel('Churn_pred_class')"
   ]
  },
  {
   "cell_type": "code",
   "execution_count": 213,
   "metadata": {},
   "outputs": [],
   "source": [
    "x_test1['Churn_pred_prob'] = logreg.predict_proba(X1)[:, 1]"
   ]
  },
  {
   "cell_type": "code",
   "execution_count": 214,
   "metadata": {},
   "outputs": [
    {
     "data": {
      "text/plain": [
       "Text(0,0.5,'Churn_pred_prob')"
      ]
     },
     "execution_count": 214,
     "metadata": {},
     "output_type": "execute_result"
    },
    {
     "data": {
      "image/png": "[encoded data removed]",
      "text/plain": [
       "<Figure size 432x288 with 1 Axes>"
      ]
     },
     "metadata": {},
     "output_type": "display_data"
    }
   ],
   "source": [
    "# plot the predicted probabilities\n",
    "plt.scatter(x_test1['CustServ Calls'], x_test1.Churn)\n",
    "plt.plot(x_test1['CustServ Calls'], x_test1.Churn_pred_prob, color='red')\n",
    "plt.xlabel('CustServ Calls')\n",
    "plt.ylabel('Churn_pred_prob')"
   ]
  },
  {
   "cell_type": "markdown",
   "metadata": {},
   "source": [
    "# Exercise 4.7\n",
    "\n",
    "a) Create a confusion matrix using the prediction on the 30% set.\n",
    "\n",
    "b) Estimate the accuracy of the model in the 30% set\n"
   ]
  },
  {
   "cell_type": "code",
   "execution_count": 221,
   "metadata": {},
   "outputs": [
    {
     "name": "stdout",
     "output_type": "stream",
     "text": [
      "[[0.92556226 0.07443774]]\n",
      "[[0.89216793 0.10783207]]\n",
      "[[0.84628034 0.15371966]]\n",
      "[[0.78555902 0.21444098]]\n",
      "[[0.70909689 0.29090311]]\n",
      "[[0.6186077 0.3813923]]\n",
      "[[0.51906169 0.48093831]]\n",
      "[[0.41797899 0.58202101]]\n"
     ]
    }
   ],
   "source": [
    "print(logreg.predict_proba([[0]]))\n",
    "print(logreg.predict_proba([[1]]))\n",
    "print(logreg.predict_proba([[2]]))\n",
    "print(logreg.predict_proba([[3]]))\n",
    "print(logreg.predict_proba([[4]]))\n",
    "print(logreg.predict_proba([[5]]))\n",
    "print(logreg.predict_proba([[6]]))\n",
    "print(logreg.predict_proba([[7]]))"
   ]
  },
  {
   "cell_type": "markdown",
   "metadata": {},
   "source": [
    "## Matriz de Confusión"
   ]
  },
  {
   "cell_type": "code",
   "execution_count": 246,
   "metadata": {},
   "outputs": [],
   "source": [
    " Con_M = pd.DataFrame([[logreg.predict_proba([[0]])], [logreg.predict_proba([[1]])], [logreg.predict_proba([[2]])],[logreg.predict_proba([[3]])],[logreg.predict_proba([[4]])],[logreg.predict_proba([[5]])],[logreg.predict_proba([[6]])],[logreg.predict_proba([[7]])],[logreg.predict_proba([[8]])],[logreg.predict_proba([[9]])]], index=['No Llamada','1 Llamada', '2 Llamadas', '3 Llamadas', '4 Llamadas','5 Llamadas','6 Llamadas','7 Llamadas','8 Llamadas','9 Llamadas'], columns= ['Prob Continua plan/ Prob Churn'])"
   ]
  },
  {
   "cell_type": "code",
   "execution_count": 247,
   "metadata": {
    "scrolled": true
   },
   "outputs": [
    {
     "data": {
      "text/html": [
       "<div>\n",
       "<style scoped>\n",
       "    .dataframe tbody tr th:only-of-type {\n",
       "        vertical-align: middle;\n",
       "    }\n",
       "\n",
       "    .dataframe tbody tr th {\n",
       "        vertical-align: top;\n",
       "    }\n",
       "\n",
       "    .dataframe thead th {\n",
       "        text-align: right;\n",
       "    }\n",
       "</style>\n",
       "<table border=\"1\" class=\"dataframe\">\n",
       "  <thead>\n",
       "    <tr style=\"text-align: right;\">\n",
       "      <th></th>\n",
       "      <th>Prob Continua plan/ Prob Churn</th>\n",
       "    </tr>\n",
       "  </thead>\n",
       "  <tbody>\n",
       "    <tr>\n",
       "      <th>No Llamada</th>\n",
       "      <td>[[0.9255622618035192, 0.0744377381964808]]</td>\n",
       "    </tr>\n",
       "    <tr>\n",
       "      <th>1 Llamada</th>\n",
       "      <td>[[0.8921679282639174, 0.1078320717360825]]</td>\n",
       "    </tr>\n",
       "    <tr>\n",
       "      <th>2 Llamadas</th>\n",
       "      <td>[[0.8462803426970613, 0.15371965730293866]]</td>\n",
       "    </tr>\n",
       "    <tr>\n",
       "      <th>3 Llamadas</th>\n",
       "      <td>[[0.7855590188477959, 0.21444098115220406]]</td>\n",
       "    </tr>\n",
       "    <tr>\n",
       "      <th>4 Llamadas</th>\n",
       "      <td>[[0.7090968922717049, 0.29090310772829503]]</td>\n",
       "    </tr>\n",
       "    <tr>\n",
       "      <th>5 Llamadas</th>\n",
       "      <td>[[0.6186077044330544, 0.38139229556694565]]</td>\n",
       "    </tr>\n",
       "    <tr>\n",
       "      <th>6 Llamadas</th>\n",
       "      <td>[[0.5190616860942343, 0.48093831390576564]]</td>\n",
       "    </tr>\n",
       "    <tr>\n",
       "      <th>7 Llamadas</th>\n",
       "      <td>[[0.4179789868902539, 0.5820210131097461]]</td>\n",
       "    </tr>\n",
       "    <tr>\n",
       "      <th>8 Llamadas</th>\n",
       "      <td>[[0.323346570704655, 0.676653429295345]]</td>\n",
       "    </tr>\n",
       "    <tr>\n",
       "      <th>9 Llamadas</th>\n",
       "      <td>[[0.2412582367415952, 0.7587417632584048]]</td>\n",
       "    </tr>\n",
       "  </tbody>\n",
       "</table>\n",
       "</div>"
      ],
      "text/plain": [
       "                         Prob Continua plan/ Prob Churn\n",
       "No Llamada   [[0.9255622618035192, 0.0744377381964808]]\n",
       "1 Llamada    [[0.8921679282639174, 0.1078320717360825]]\n",
       "2 Llamadas  [[0.8462803426970613, 0.15371965730293866]]\n",
       "3 Llamadas  [[0.7855590188477959, 0.21444098115220406]]\n",
       "4 Llamadas  [[0.7090968922717049, 0.29090310772829503]]\n",
       "5 Llamadas  [[0.6186077044330544, 0.38139229556694565]]\n",
       "6 Llamadas  [[0.5190616860942343, 0.48093831390576564]]\n",
       "7 Llamadas   [[0.4179789868902539, 0.5820210131097461]]\n",
       "8 Llamadas     [[0.323346570704655, 0.676653429295345]]\n",
       "9 Llamadas   [[0.2412582367415952, 0.7587417632584048]]"
      ]
     },
     "execution_count": 247,
     "metadata": {},
     "output_type": "execute_result"
    }
   ],
   "source": [
    "Con_M"
   ]
  },
  {
   "cell_type": "markdown",
   "metadata": {},
   "source": [
    "## Evaluación de la predicción"
   ]
  },
  {
   "cell_type": "code",
   "execution_count": 249,
   "metadata": {},
   "outputs": [
    {
     "name": "stdout",
     "output_type": "stream",
     "text": [
      "MSE: 0.1173673378578056\n"
     ]
    }
   ],
   "source": [
    "from sklearn import metrics\n",
    "print('MSE:', metrics.mean_squared_error(x_test1['Churn_pred_class'], x_test1['Churn']))"
   ]
  }
 ],
 "metadata": {
  "kernelspec": {
   "display_name": "Python 3",
   "language": "python",
   "name": "python3"
  },
  "language_info": {
   "codemirror_mode": {
    "name": "ipython",
    "version": 3
   },
   "file_extension": ".py",
   "mimetype": "text/x-python",
   "name": "python",
   "nbconvert_exporter": "python",
   "pygments_lexer": "ipython3",
   "version": "3.6.5"
  }
 },
 "nbformat": 4,
 "nbformat_minor": 2
}
